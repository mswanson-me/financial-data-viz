{
 "cells": [
  {
   "cell_type": "code",
   "execution_count": 6,
   "metadata": {
    "collapsed": true
   },
   "outputs": [],
   "source": [
    "# imports\n",
    "import config\n",
    "import fin_funcs\n",
    "import requests\n",
    "import io\n",
    "import json\n",
    "import numpy as np\n",
    "import pandas as pd"
   ]
  },
  {
   "cell_type": "code",
   "execution_count": 7,
   "metadata": {
    "collapsed": true
   },
   "outputs": [],
   "source": [
    "# define vars\n",
    "tickers = ['MSFT']\n",
    "ticker_data = {}"
   ]
  },
  {
   "cell_type": "code",
   "execution_count": 8,
   "metadata": {
    "collapsed": true
   },
   "outputs": [],
   "source": [
    "# define functions for handling stock market data\n",
    "\n",
    "def stock_collection(tickers):\n",
    "    for ticker in tickers:\n",
    "        stock_url = 'https://www.alphavantage.co/query?function=TIME_SERIES_DAILY_ADJUSTED&symbol={0}&datatype=csv&apikey={1}'.format(ticker, config.av_api_key)\n",
    "        print('Fetching data for symbol {}...'.format(ticker))\n",
    "        r = requests.get(stock_url).content\n",
    "        stock_data = pd.read_csv(io.StringIO(r.decode('utf-8')))\n",
    "        ticker_data[ticker] = pd.DataFrame(stock_data)\n",
    "\n",
    "def data_overview(ticker_data):\n",
    "    for key in ticker_data.keys():\n",
    "        print(key)\n",
    "        print(ticker_data[key].head())\n",
    "        print(\"-\"*75)"
   ]
  },
  {
   "cell_type": "code",
   "execution_count": 9,
   "metadata": {
    "collapsed": true
   },
   "outputs": [],
   "source": [
    "# News collection handled by News API - https://newsapi.org"
   ]
  },
  {
   "cell_type": "code",
   "execution_count": 10,
   "metadata": {},
   "outputs": [
    {
     "name": "stdout",
     "output_type": "stream",
     "text": [
      "Fetching data for symbol MSFT...\n",
      "MSFT\n",
      "    timestamp    open   high      low  close  adjusted_close    volume  \\\n",
      "0  2018-02-16  92.450  93.50  91.8000  92.00         92.0000  30188535   \n",
      "1  2018-02-15  91.210  92.72  90.6200  92.66         92.6600  27407914   \n",
      "2  2018-02-14  88.510  90.99  88.4100  90.81         90.8100  34314101   \n",
      "3  2018-02-13  88.930  90.00  87.8000  89.83         89.4164  26200053   \n",
      "4  2018-02-12  88.735  89.78  87.9295  89.13         88.7197  35501368   \n",
      "\n",
      "   dividend_amount  split_coefficient  \n",
      "0             0.00                1.0  \n",
      "1             0.00                1.0  \n",
      "2             0.42                1.0  \n",
      "3             0.00                1.0  \n",
      "4             0.00                1.0  \n",
      "---------------------------------------------------------------------------\n"
     ]
    }
   ],
   "source": [
    "# call functions\n",
    "stock_collection(tickers)\n",
    "data_overview(ticker_data)\n",
    "#fin_funcs.news_collection(tickers)"
   ]
  },
  {
   "cell_type": "code",
   "execution_count": null,
   "metadata": {
    "collapsed": true
   },
   "outputs": [],
   "source": []
  }
 ],
 "metadata": {
  "kernelspec": {
   "display_name": "Python 3",
   "language": "python",
   "name": "python3"
  },
  "language_info": {
   "codemirror_mode": {
    "name": "ipython",
    "version": 3
   },
   "file_extension": ".py",
   "mimetype": "text/x-python",
   "name": "python",
   "nbconvert_exporter": "python",
   "pygments_lexer": "ipython3",
   "version": "3.6.3"
  }
 },
 "nbformat": 4,
 "nbformat_minor": 2
}
