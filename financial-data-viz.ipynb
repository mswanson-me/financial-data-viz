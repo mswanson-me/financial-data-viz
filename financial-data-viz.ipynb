{
 "cells": [
  {
   "cell_type": "code",
   "execution_count": 2,
   "metadata": {
    "collapsed": true
   },
   "outputs": [],
   "source": [
    "# imports\n",
    "import config\n",
    "import requests\n",
    "import io\n",
    "import numpy as np\n",
    "import pandas as pd"
   ]
  },
  {
   "cell_type": "code",
   "execution_count": 29,
   "metadata": {},
   "outputs": [],
   "source": [
    "# define vars\n",
    "tickers = ['MSFT', 'AAPL', 'AMZN']\n",
    "ticker_data = {}"
   ]
  },
  {
   "cell_type": "code",
   "execution_count": 31,
   "metadata": {
    "collapsed": true
   },
   "outputs": [],
   "source": [
    "# define functions\n",
    "\n",
    "def data_collection(tickers):\n",
    "    for ticker in tickers:\n",
    "        fetch_url = 'https://www.alphavantage.co/query?function=TIME_SERIES_DAILY_ADJUSTED&symbol={0}&datatype=csv&apikey={1}'.format(ticker, config.api_key)\n",
    "        print('Fetching data for symbol %s...' % ticker)\n",
    "        r = requests.get(fetch_url).content\n",
    "        data = pd.read_csv(io.StringIO(r.decode('utf-8')))\n",
    "        ticker_data[ticker] = pd.DataFrame(data)\n",
    "\n",
    "def data_overview(ticker_data):\n",
    "    for key in ticker_data.keys():\n",
    "        print(key)\n",
    "        print(ticker_data[key].head())\n",
    "        print(\"-\"*75)"
   ]
  },
  {
   "cell_type": "code",
   "execution_count": 33,
   "metadata": {},
   "outputs": [
    {
     "name": "stdout",
     "output_type": "stream",
     "text": [
      "Fetching data for symbol MSFT...\n",
      "Fetching data for symbol AAPL...\n",
      "Fetching data for symbol AMZN...\n",
      "MSFT\n",
      "    timestamp    open   high      low  close  adjusted_close    volume  \\\n",
      "0  2018-02-16  92.450  93.50  91.8000  92.00         92.0000  30592014   \n",
      "1  2018-02-15  91.210  92.72  90.6200  92.66         92.6600  27523357   \n",
      "2  2018-02-14  88.510  90.99  88.4100  90.81         90.8100  34314101   \n",
      "3  2018-02-13  88.930  90.00  87.8000  89.83         89.4164  26200053   \n",
      "4  2018-02-12  88.735  89.78  87.9295  89.13         88.7197  35501368   \n",
      "\n",
      "   dividend_amount  split_coefficient  \n",
      "0             0.00                1.0  \n",
      "1             0.00                1.0  \n",
      "2             0.42                1.0  \n",
      "3             0.00                1.0  \n",
      "4             0.00                1.0  \n",
      "---------------------------------------------------------------------------\n",
      "AAPL\n",
      "    timestamp     open    high     low   close  adjusted_close    volume  \\\n",
      "0  2018-02-16  172.360  174.82  171.77  172.43          172.43  40157281   \n",
      "1  2018-02-15  169.790  173.09  169.00  172.99          172.99  50609595   \n",
      "2  2018-02-14  163.045  167.54  162.88  167.37          167.37  39669178   \n",
      "3  2018-02-13  161.950  164.75  161.65  164.34          164.34  32104756   \n",
      "4  2018-02-12  158.500  163.89  157.51  162.71          162.71  60560145   \n",
      "\n",
      "   dividend_amount  split_coefficient  \n",
      "0              0.0                1.0  \n",
      "1              0.0                1.0  \n",
      "2              0.0                1.0  \n",
      "3              0.0                1.0  \n",
      "4              0.0                1.0  \n",
      "---------------------------------------------------------------------------\n",
      "AMZN\n",
      "    timestamp     open     high      low    close  adjusted_close   volume  \\\n",
      "0  2018-02-16  1457.37  1465.80  1446.56  1448.69         1448.69  4469162   \n",
      "1  2018-02-15  1466.89  1468.94  1436.84  1461.76         1461.76  5598111   \n",
      "2  2018-02-14  1406.25  1452.06  1403.36  1451.05         1451.05  5881238   \n",
      "3  2018-02-13  1385.93  1419.72  1383.53  1414.51         1414.51  5858860   \n",
      "4  2018-02-12  1364.67  1393.81  1344.01  1386.23         1386.23  6682214   \n",
      "\n",
      "   dividend_amount  split_coefficient  \n",
      "0              0.0                1.0  \n",
      "1              0.0                1.0  \n",
      "2              0.0                1.0  \n",
      "3              0.0                1.0  \n",
      "4              0.0                1.0  \n",
      "---------------------------------------------------------------------------\n"
     ]
    }
   ],
   "source": [
    "# call functions\n",
    "data_collection(tickers)\n",
    "data_overview(ticker_data)"
   ]
  },
  {
   "cell_type": "code",
   "execution_count": null,
   "metadata": {
    "collapsed": true
   },
   "outputs": [],
   "source": []
  }
 ],
 "metadata": {
  "kernelspec": {
   "display_name": "Python 3",
   "language": "python",
   "name": "python3"
  },
  "language_info": {
   "codemirror_mode": {
    "name": "ipython",
    "version": 3
   },
   "file_extension": ".py",
   "mimetype": "text/x-python",
   "name": "python",
   "nbconvert_exporter": "python",
   "pygments_lexer": "ipython3",
   "version": "3.6.3"
  }
 },
 "nbformat": 4,
 "nbformat_minor": 2
}
